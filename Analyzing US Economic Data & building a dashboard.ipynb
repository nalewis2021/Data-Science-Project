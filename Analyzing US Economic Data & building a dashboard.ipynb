{
    "cells": [
        {
            "cell_type": "markdown",
            "metadata": {},
            "source": "<center>\n    <img src=\"https://s3-api.us-geo.objectstorage.softlayer.net/cf-courses-data/CognitiveClass/Logos/organization_logo/organization_logo.png\" width=\"300\" alt=\"cognitiveclass.ai logo\"  />\n</center>\n"
        },
        {
            "cell_type": "markdown",
            "metadata": {},
            "source": "<h1>Extracting and Visualizing Stock Data</h1>\n<h2>Description</h2>\n"
        },
        {
            "cell_type": "markdown",
            "metadata": {},
            "source": "Extracting essential data from a dataset and displaying it is a necessary part of data science; therefore individuals can make correct decisions based on the data. In this assignment, you will extract some stock data, you will then display this data in a graph.\n"
        },
        {
            "cell_type": "markdown",
            "metadata": {},
            "source": "<h2>Table of Contents</h2>\n<div class=\"alert alert-block alert-info\" style=\"margin-top: 20px\">\n    <ul>\n        <li>Define a Function that Makes a Graph</li>\n        <li>Question 1: Use yfinance to Extract Stock Data</li>\n        <li>Question 2: Use Webscraping to Extract Tesla Revenue Data</li>\n        <li>Question 3: Use yfinance to Extract Stock Data</li>\n        <li>Question 4: Use Webscraping to Extract GME Revenue Data</li>\n        <li>Question 5: Plot Tesla Stock Graph</li>\n        <li>Question 6: Plot GameStop Stock Graph</li>\n    </ul>\n<p>\n    Estimated Time Needed: <strong>30 min</strong></p>\n</div>\n\n<hr>\n"
        },
        {
            "cell_type": "code",
            "execution_count": 1,
            "metadata": {},
            "outputs": [
                {
                    "name": "stdout",
                    "output_type": "stream",
                    "text": "/opt/conda/envs/Python-3.7-OpenCE/lib/python3.7/site-packages/secretstorage/dhcrypto.py:16: CryptographyDeprecationWarning: int_from_bytes is deprecated, use int.from_bytes instead\n  from cryptography.utils import int_from_bytes\n/opt/conda/envs/Python-3.7-OpenCE/lib/python3.7/site-packages/secretstorage/util.py:25: CryptographyDeprecationWarning: int_from_bytes is deprecated, use int.from_bytes instead\n  from cryptography.utils import int_from_bytes\nRequirement already satisfied: yfinance in /opt/conda/envs/Python-3.7-OpenCE/lib/python3.7/site-packages (0.1.63)\nRequirement already satisfied: requests>=2.20 in /opt/conda/envs/Python-3.7-OpenCE/lib/python3.7/site-packages (from yfinance) (2.25.1)\nRequirement already satisfied: multitasking>=0.0.7 in /opt/conda/envs/Python-3.7-OpenCE/lib/python3.7/site-packages (from yfinance) (0.0.9)\nRequirement already satisfied: lxml>=4.5.1 in /opt/conda/envs/Python-3.7-OpenCE/lib/python3.7/site-packages (from yfinance) (4.6.3)\nRequirement already satisfied: pandas>=0.24 in /opt/conda/envs/Python-3.7-OpenCE/lib/python3.7/site-packages (from yfinance) (1.0.5)\nRequirement already satisfied: numpy>=1.15 in /opt/conda/envs/Python-3.7-OpenCE/lib/python3.7/site-packages (from yfinance) (1.19.2)\nRequirement already satisfied: urllib3<1.27,>=1.21.1 in /opt/conda/envs/Python-3.7-OpenCE/lib/python3.7/site-packages (from requests>=2.20->yfinance) (1.26.6)\nRequirement already satisfied: chardet<5,>=3.0.2 in /opt/conda/envs/Python-3.7-OpenCE/lib/python3.7/site-packages (from requests>=2.20->yfinance) (3.0.4)\nRequirement already satisfied: idna<3,>=2.5 in /opt/conda/envs/Python-3.7-OpenCE/lib/python3.7/site-packages (from requests>=2.20->yfinance) (2.8)\nRequirement already satisfied: certifi>=2017.4.17 in /opt/conda/envs/Python-3.7-OpenCE/lib/python3.7/site-packages (from requests>=2.20->yfinance) (2021.5.30)\nRequirement already satisfied: python-dateutil>=2.6.1 in /opt/conda/envs/Python-3.7-OpenCE/lib/python3.7/site-packages (from pandas>=0.24->yfinance) (2.8.1)\nRequirement already satisfied: pytz>=2017.2 in /opt/conda/envs/Python-3.7-OpenCE/lib/python3.7/site-packages (from pandas>=0.24->yfinance) (2020.1)\nRequirement already satisfied: six>=1.5 in /opt/conda/envs/Python-3.7-OpenCE/lib/python3.7/site-packages (from python-dateutil>=2.6.1->pandas>=0.24->yfinance) (1.15.0)\n/opt/conda/envs/Python-3.7-OpenCE/lib/python3.7/site-packages/secretstorage/dhcrypto.py:16: CryptographyDeprecationWarning: int_from_bytes is deprecated, use int.from_bytes instead\n  from cryptography.utils import int_from_bytes\n/opt/conda/envs/Python-3.7-OpenCE/lib/python3.7/site-packages/secretstorage/util.py:25: CryptographyDeprecationWarning: int_from_bytes is deprecated, use int.from_bytes instead\n  from cryptography.utils import int_from_bytes\nRequirement already satisfied: bs4 in /opt/conda/envs/Python-3.7-OpenCE/lib/python3.7/site-packages (0.0.1)\nRequirement already satisfied: beautifulsoup4 in /opt/conda/envs/Python-3.7-OpenCE/lib/python3.7/site-packages (from bs4) (4.9.1)\nRequirement already satisfied: soupsieve>1.2 in /opt/conda/envs/Python-3.7-OpenCE/lib/python3.7/site-packages (from beautifulsoup4->bs4) (2.0.1)\n"
                }
            ],
            "source": "!pip install yfinance\n#!pip install pandas\n#!pip install requests\n!pip install bs4\n#!pip install plotly"
        },
        {
            "cell_type": "code",
            "execution_count": 2,
            "metadata": {},
            "outputs": [],
            "source": "import yfinance as yf\nimport pandas as pd\nimport requests\nfrom bs4 import BeautifulSoup\nimport plotly.graph_objects as go\nfrom plotly.subplots import make_subplots"
        },
        {
            "cell_type": "markdown",
            "metadata": {},
            "source": "## Define Graphing Function\n"
        },
        {
            "cell_type": "markdown",
            "metadata": {},
            "source": "In this section, we define the function `make_graph`. You don't have to know how the function works, you should only care about the inputs. It takes a dataframe with stock data (dataframe must contain Date and Close columns), a dataframe with revenue data (dataframe must contain Date and Revenue columns), and the name of the stock.\n"
        },
        {
            "cell_type": "code",
            "execution_count": 3,
            "metadata": {},
            "outputs": [],
            "source": "def make_graph(stock_data, revenue_data, stock):\n    fig = make_subplots(rows=2, cols=1, shared_xaxes=True, subplot_titles=(\"Historical Share Price\", \"Historical Revenue\"), vertical_spacing = .3)\n    stock_data_specific = stock_data[stock_data.Date <= '2021--06-14']\n    revenue_data_specific = revenue_data[revenue_data.Date <= '2021-04-30']\n    fig.add_trace(go.Scatter(x=pd.to_datetime(stock_data_specific.Date, infer_datetime_format=True), y=stock_data_specific.Close.astype(\"float\"), name=\"Share Price\"), row=1, col=1)\n    fig.add_trace(go.Scatter(x=pd.to_datetime(revenue_data_specific.Date, infer_datetime_format=True), y=revenue_data_specific.Revenue.astype(\"float\"), name=\"Revenue\"), row=2, col=1)\n    fig.update_xaxes(title_text=\"Date\", row=1, col=1)\n    fig.update_xaxes(title_text=\"Date\", row=2, col=1)\n    fig.update_yaxes(title_text=\"Price ($US)\", row=1, col=1)\n    fig.update_yaxes(title_text=\"Revenue ($US Millions)\", row=2, col=1)\n    fig.update_layout(showlegend=False,\n    height=900,\n    title=stock,\n    xaxis_rangeslider_visible=True)\n    fig.show()"
        },
        {
            "cell_type": "markdown",
            "metadata": {},
            "source": "## Question 1: Use yfinance to Extract Stock Data\n"
        },
        {
            "cell_type": "markdown",
            "metadata": {},
            "source": "Using the `Ticker` function enter the ticker symbol of the stock we want to extract data on to create a ticker object. The stock is Tesla and its ticker symbol is `TSLA`.\n"
        },
        {
            "cell_type": "code",
            "execution_count": 4,
            "metadata": {},
            "outputs": [],
            "source": "tesla = yf.Ticker(\"TSLA\")"
        },
        {
            "cell_type": "markdown",
            "metadata": {},
            "source": "Using the ticker object and the function `history` extract stock information and save it in a dataframe named `tesla_data`. Set the `period` parameter to `max` so we get information for the maximum amount of time.\n"
        },
        {
            "cell_type": "code",
            "execution_count": 5,
            "metadata": {},
            "outputs": [
                {
                    "data": {
                        "text/html": "<div>\n<style scoped>\n    .dataframe tbody tr th:only-of-type {\n        vertical-align: middle;\n    }\n\n    .dataframe tbody tr th {\n        vertical-align: top;\n    }\n\n    .dataframe thead th {\n        text-align: right;\n    }\n</style>\n<table border=\"1\" class=\"dataframe\">\n  <thead>\n    <tr style=\"text-align: right;\">\n      <th></th>\n      <th>Open</th>\n      <th>High</th>\n      <th>Low</th>\n      <th>Close</th>\n      <th>Volume</th>\n      <th>Dividends</th>\n      <th>Stock Splits</th>\n    </tr>\n    <tr>\n      <th>Date</th>\n      <th></th>\n      <th></th>\n      <th></th>\n      <th></th>\n      <th></th>\n      <th></th>\n      <th></th>\n    </tr>\n  </thead>\n  <tbody>\n    <tr>\n      <th>2010-06-29</th>\n      <td>3.800000</td>\n      <td>5.000000</td>\n      <td>3.508000</td>\n      <td>4.778000</td>\n      <td>93831500</td>\n      <td>0</td>\n      <td>0.0</td>\n    </tr>\n    <tr>\n      <th>2010-06-30</th>\n      <td>5.158000</td>\n      <td>6.084000</td>\n      <td>4.660000</td>\n      <td>4.766000</td>\n      <td>85935500</td>\n      <td>0</td>\n      <td>0.0</td>\n    </tr>\n    <tr>\n      <th>2010-07-01</th>\n      <td>5.000000</td>\n      <td>5.184000</td>\n      <td>4.054000</td>\n      <td>4.392000</td>\n      <td>41094000</td>\n      <td>0</td>\n      <td>0.0</td>\n    </tr>\n    <tr>\n      <th>2010-07-02</th>\n      <td>4.600000</td>\n      <td>4.620000</td>\n      <td>3.742000</td>\n      <td>3.840000</td>\n      <td>25699000</td>\n      <td>0</td>\n      <td>0.0</td>\n    </tr>\n    <tr>\n      <th>2010-07-06</th>\n      <td>4.000000</td>\n      <td>4.000000</td>\n      <td>3.166000</td>\n      <td>3.222000</td>\n      <td>34334500</td>\n      <td>0</td>\n      <td>0.0</td>\n    </tr>\n    <tr>\n      <th>...</th>\n      <td>...</td>\n      <td>...</td>\n      <td>...</td>\n      <td>...</td>\n      <td>...</td>\n      <td>...</td>\n      <td>...</td>\n    </tr>\n    <tr>\n      <th>2021-09-27</th>\n      <td>773.119995</td>\n      <td>799.000000</td>\n      <td>769.309998</td>\n      <td>791.359985</td>\n      <td>28070700</td>\n      <td>0</td>\n      <td>0.0</td>\n    </tr>\n    <tr>\n      <th>2021-09-28</th>\n      <td>787.200012</td>\n      <td>795.640015</td>\n      <td>766.179993</td>\n      <td>777.559998</td>\n      <td>25381400</td>\n      <td>0</td>\n      <td>0.0</td>\n    </tr>\n    <tr>\n      <th>2021-09-29</th>\n      <td>779.799988</td>\n      <td>793.500000</td>\n      <td>770.679993</td>\n      <td>781.309998</td>\n      <td>20942900</td>\n      <td>0</td>\n      <td>0.0</td>\n    </tr>\n    <tr>\n      <th>2021-09-30</th>\n      <td>781.000000</td>\n      <td>789.130005</td>\n      <td>775.000000</td>\n      <td>775.479980</td>\n      <td>17956000</td>\n      <td>0</td>\n      <td>0.0</td>\n    </tr>\n    <tr>\n      <th>2021-10-01</th>\n      <td>778.400024</td>\n      <td>780.780029</td>\n      <td>763.590027</td>\n      <td>775.219971</td>\n      <td>17031414</td>\n      <td>0</td>\n      <td>0.0</td>\n    </tr>\n  </tbody>\n</table>\n<p>2836 rows \u00d7 7 columns</p>\n</div>",
                        "text/plain": "                  Open        High         Low       Close    Volume  \\\nDate                                                                   \n2010-06-29    3.800000    5.000000    3.508000    4.778000  93831500   \n2010-06-30    5.158000    6.084000    4.660000    4.766000  85935500   \n2010-07-01    5.000000    5.184000    4.054000    4.392000  41094000   \n2010-07-02    4.600000    4.620000    3.742000    3.840000  25699000   \n2010-07-06    4.000000    4.000000    3.166000    3.222000  34334500   \n...                ...         ...         ...         ...       ...   \n2021-09-27  773.119995  799.000000  769.309998  791.359985  28070700   \n2021-09-28  787.200012  795.640015  766.179993  777.559998  25381400   \n2021-09-29  779.799988  793.500000  770.679993  781.309998  20942900   \n2021-09-30  781.000000  789.130005  775.000000  775.479980  17956000   \n2021-10-01  778.400024  780.780029  763.590027  775.219971  17031414   \n\n            Dividends  Stock Splits  \nDate                                 \n2010-06-29          0           0.0  \n2010-06-30          0           0.0  \n2010-07-01          0           0.0  \n2010-07-02          0           0.0  \n2010-07-06          0           0.0  \n...               ...           ...  \n2021-09-27          0           0.0  \n2021-09-28          0           0.0  \n2021-09-29          0           0.0  \n2021-09-30          0           0.0  \n2021-10-01          0           0.0  \n\n[2836 rows x 7 columns]"
                    },
                    "execution_count": 5,
                    "metadata": {},
                    "output_type": "execute_result"
                }
            ],
            "source": "tesla_info=tesla.info\ntesla_info\ntesla_data = tesla.history(period=\"max\")\ntesla_data"
        },
        {
            "cell_type": "markdown",
            "metadata": {},
            "source": "**Reset the index** using the `reset_index(inplace=True)` function on the tesla_data DataFrame and display the first five rows of the `tesla_data` dataframe using the `head` function. Take a screenshot of the results and code from the beginning of Question 1 to the results below.\n"
        },
        {
            "cell_type": "code",
            "execution_count": 6,
            "metadata": {},
            "outputs": [
                {
                    "data": {
                        "text/html": "<div>\n<style scoped>\n    .dataframe tbody tr th:only-of-type {\n        vertical-align: middle;\n    }\n\n    .dataframe tbody tr th {\n        vertical-align: top;\n    }\n\n    .dataframe thead th {\n        text-align: right;\n    }\n</style>\n<table border=\"1\" class=\"dataframe\">\n  <thead>\n    <tr style=\"text-align: right;\">\n      <th></th>\n      <th>Date</th>\n      <th>Open</th>\n      <th>High</th>\n      <th>Low</th>\n      <th>Close</th>\n      <th>Volume</th>\n      <th>Dividends</th>\n      <th>Stock Splits</th>\n    </tr>\n  </thead>\n  <tbody>\n    <tr>\n      <th>0</th>\n      <td>2010-06-29</td>\n      <td>3.800</td>\n      <td>5.000</td>\n      <td>3.508</td>\n      <td>4.778</td>\n      <td>93831500</td>\n      <td>0</td>\n      <td>0.0</td>\n    </tr>\n    <tr>\n      <th>1</th>\n      <td>2010-06-30</td>\n      <td>5.158</td>\n      <td>6.084</td>\n      <td>4.660</td>\n      <td>4.766</td>\n      <td>85935500</td>\n      <td>0</td>\n      <td>0.0</td>\n    </tr>\n    <tr>\n      <th>2</th>\n      <td>2010-07-01</td>\n      <td>5.000</td>\n      <td>5.184</td>\n      <td>4.054</td>\n      <td>4.392</td>\n      <td>41094000</td>\n      <td>0</td>\n      <td>0.0</td>\n    </tr>\n    <tr>\n      <th>3</th>\n      <td>2010-07-02</td>\n      <td>4.600</td>\n      <td>4.620</td>\n      <td>3.742</td>\n      <td>3.840</td>\n      <td>25699000</td>\n      <td>0</td>\n      <td>0.0</td>\n    </tr>\n    <tr>\n      <th>4</th>\n      <td>2010-07-06</td>\n      <td>4.000</td>\n      <td>4.000</td>\n      <td>3.166</td>\n      <td>3.222</td>\n      <td>34334500</td>\n      <td>0</td>\n      <td>0.0</td>\n    </tr>\n  </tbody>\n</table>\n</div>",
                        "text/plain": "        Date   Open   High    Low  Close    Volume  Dividends  Stock Splits\n0 2010-06-29  3.800  5.000  3.508  4.778  93831500          0           0.0\n1 2010-06-30  5.158  6.084  4.660  4.766  85935500          0           0.0\n2 2010-07-01  5.000  5.184  4.054  4.392  41094000          0           0.0\n3 2010-07-02  4.600  4.620  3.742  3.840  25699000          0           0.0\n4 2010-07-06  4.000  4.000  3.166  3.222  34334500          0           0.0"
                    },
                    "execution_count": 6,
                    "metadata": {},
                    "output_type": "execute_result"
                }
            ],
            "source": "tesla_data.reset_index(inplace=True)\ntesla_data.head()"
        },
        {
            "cell_type": "markdown",
            "metadata": {},
            "source": "## Question 2: Use Webscraping to Extract Tesla Revenue Data\n"
        },
        {
            "cell_type": "markdown",
            "metadata": {},
            "source": "Use the `requests` library to download the webpage [https://www.macrotrends.net/stocks/charts/TSLA/tesla/revenue](https://www.macrotrends.net/stocks/charts/TSLA/tesla/revenue?utm_medium=Exinfluencer&utm_source=Exinfluencer&utm_content=000026UJ&utm_term=10006555&utm_id=NA-SkillsNetwork-Channel-SkillsNetworkCoursesIBMDeveloperSkillsNetworkPY0220ENSkillsNetwork23455606-2021-01-01). Save the text of the response as a variable named `html_data`.\n"
        },
        {
            "cell_type": "code",
            "execution_count": 7,
            "metadata": {},
            "outputs": [],
            "source": "url = \"https://www.macrotrends.net/stocks/charts/TSLA/tesla/revenue\"\nhtml_data  = requests.get(url).text    "
        },
        {
            "cell_type": "markdown",
            "metadata": {},
            "source": "Parse the html data using `beautiful_soup`.\n"
        },
        {
            "cell_type": "code",
            "execution_count": 8,
            "metadata": {},
            "outputs": [],
            "source": "soup = BeautifulSoup(html_data, 'html5lib')"
        },
        {
            "cell_type": "markdown",
            "metadata": {},
            "source": "Using `BeautifulSoup` or the `read_html` function extract the table with `Tesla Quarterly Revenue` and store it into a dataframe named `tesla_revenue`. The dataframe should have columns `Date` and `Revenue`.\n"
        },
        {
            "cell_type": "markdown",
            "metadata": {},
            "source": "<details><summary>Click here if you need help locating the table</summary>\n\n```\n    \nBelow is the code to isolate the table, you will now need to loop through the rows and columns like in the previous lab\n    \nsoup.find_all(\"tbody\")[1]\n    \nIf you want to use the read_html function the table is located at index 1\n\n\n```\n\n</details>\n"
        },
        {
            "cell_type": "code",
            "execution_count": 9,
            "metadata": {},
            "outputs": [],
            "source": "tesla_revenue = pd.DataFrame(columns=[\"Date\", \"Revenue\"])\nsoup.find_all(\"tbody\")[1]\nfor row in soup.find(\"tbody\").find_all(\"tr\"):\n    col = row.find_all(\"td\")\n\n   \n    date = col[0].text\n    revenue = col[1].text\n      \n    tesla_revenue = tesla_revenue.append({\"Date\":date, \"Revenue\":revenue}, ignore_index=True)"
        },
        {
            "cell_type": "markdown",
            "metadata": {},
            "source": "Execute the following line to remove the comma and dollar sign from the `Revenue` column.\n"
        },
        {
            "cell_type": "code",
            "execution_count": 10,
            "metadata": {},
            "outputs": [],
            "source": "tesla_revenue[\"Revenue\"] = tesla_revenue['Revenue'].str.replace(',|\\$',\"\")"
        },
        {
            "cell_type": "markdown",
            "metadata": {},
            "source": "Execute the following lines to remove an null or empty strings in the Revenue column.\n"
        },
        {
            "cell_type": "code",
            "execution_count": 11,
            "metadata": {},
            "outputs": [],
            "source": "tesla_revenue.dropna(inplace=True)\n\ntesla_revenue = tesla_revenue[tesla_revenue['Revenue'] != \"\"]"
        },
        {
            "cell_type": "markdown",
            "metadata": {},
            "source": "Display the last 5 row of the `tesla_revenue` dataframe using the `tail` function. Take a screenshot of the results.\n"
        },
        {
            "cell_type": "code",
            "execution_count": 12,
            "metadata": {},
            "outputs": [
                {
                    "data": {
                        "text/html": "<div>\n<style scoped>\n    .dataframe tbody tr th:only-of-type {\n        vertical-align: middle;\n    }\n\n    .dataframe tbody tr th {\n        vertical-align: top;\n    }\n\n    .dataframe thead th {\n        text-align: right;\n    }\n</style>\n<table border=\"1\" class=\"dataframe\">\n  <thead>\n    <tr style=\"text-align: right;\">\n      <th></th>\n      <th>Date</th>\n      <th>Revenue</th>\n    </tr>\n  </thead>\n  <tbody>\n    <tr>\n      <th>8</th>\n      <td>2012</td>\n      <td>413</td>\n    </tr>\n    <tr>\n      <th>9</th>\n      <td>2011</td>\n      <td>204</td>\n    </tr>\n    <tr>\n      <th>10</th>\n      <td>2010</td>\n      <td>117</td>\n    </tr>\n    <tr>\n      <th>11</th>\n      <td>2009</td>\n      <td>112</td>\n    </tr>\n    <tr>\n      <th>12</th>\n      <td>2008</td>\n      <td>15</td>\n    </tr>\n  </tbody>\n</table>\n</div>",
                        "text/plain": "    Date Revenue\n8   2012     413\n9   2011     204\n10  2010     117\n11  2009     112\n12  2008      15"
                    },
                    "execution_count": 12,
                    "metadata": {},
                    "output_type": "execute_result"
                }
            ],
            "source": "tesla_revenue.tail()"
        },
        {
            "cell_type": "markdown",
            "metadata": {},
            "source": "## Question 3: Use yfinance to Extract Stock Data\n"
        },
        {
            "cell_type": "markdown",
            "metadata": {},
            "source": "Using the `Ticker` function enter the ticker symbol of the stock we want to extract data on to create a ticker object. The stock is GameStop and its ticker symbol is `GME`.\n"
        },
        {
            "cell_type": "code",
            "execution_count": 13,
            "metadata": {},
            "outputs": [],
            "source": "gamestop = yf.Ticker(\"GME\")"
        },
        {
            "cell_type": "markdown",
            "metadata": {},
            "source": "Using the ticker object and the function `history` extract stock information and save it in a dataframe named `gme_data`. Set the `period` parameter to `max` so we get information for the maximum amount of time.\n"
        },
        {
            "cell_type": "code",
            "execution_count": 14,
            "metadata": {},
            "outputs": [
                {
                    "data": {
                        "text/html": "<div>\n<style scoped>\n    .dataframe tbody tr th:only-of-type {\n        vertical-align: middle;\n    }\n\n    .dataframe tbody tr th {\n        vertical-align: top;\n    }\n\n    .dataframe thead th {\n        text-align: right;\n    }\n</style>\n<table border=\"1\" class=\"dataframe\">\n  <thead>\n    <tr style=\"text-align: right;\">\n      <th></th>\n      <th>Open</th>\n      <th>High</th>\n      <th>Low</th>\n      <th>Close</th>\n      <th>Volume</th>\n      <th>Dividends</th>\n      <th>Stock Splits</th>\n    </tr>\n    <tr>\n      <th>Date</th>\n      <th></th>\n      <th></th>\n      <th></th>\n      <th></th>\n      <th></th>\n      <th></th>\n      <th></th>\n    </tr>\n  </thead>\n  <tbody>\n    <tr>\n      <th>2002-02-13</th>\n      <td>6.480513</td>\n      <td>6.773399</td>\n      <td>6.413183</td>\n      <td>6.766666</td>\n      <td>19054000</td>\n      <td>0.0</td>\n      <td>0.0</td>\n    </tr>\n    <tr>\n      <th>2002-02-14</th>\n      <td>6.850828</td>\n      <td>6.864294</td>\n      <td>6.682503</td>\n      <td>6.733001</td>\n      <td>2755400</td>\n      <td>0.0</td>\n      <td>0.0</td>\n    </tr>\n    <tr>\n      <th>2002-02-15</th>\n      <td>6.733000</td>\n      <td>6.749832</td>\n      <td>6.632005</td>\n      <td>6.699335</td>\n      <td>2097400</td>\n      <td>0.0</td>\n      <td>0.0</td>\n    </tr>\n    <tr>\n      <th>2002-02-19</th>\n      <td>6.665671</td>\n      <td>6.665671</td>\n      <td>6.312188</td>\n      <td>6.430016</td>\n      <td>1852600</td>\n      <td>0.0</td>\n      <td>0.0</td>\n    </tr>\n    <tr>\n      <th>2002-02-20</th>\n      <td>6.463681</td>\n      <td>6.648838</td>\n      <td>6.413183</td>\n      <td>6.648838</td>\n      <td>1723200</td>\n      <td>0.0</td>\n      <td>0.0</td>\n    </tr>\n    <tr>\n      <th>...</th>\n      <td>...</td>\n      <td>...</td>\n      <td>...</td>\n      <td>...</td>\n      <td>...</td>\n      <td>...</td>\n      <td>...</td>\n    </tr>\n    <tr>\n      <th>2021-09-27</th>\n      <td>185.919998</td>\n      <td>192.050003</td>\n      <td>185.869995</td>\n      <td>189.479996</td>\n      <td>1470100</td>\n      <td>0.0</td>\n      <td>0.0</td>\n    </tr>\n    <tr>\n      <th>2021-09-28</th>\n      <td>188.000000</td>\n      <td>190.809998</td>\n      <td>178.000000</td>\n      <td>178.600006</td>\n      <td>1770500</td>\n      <td>0.0</td>\n      <td>0.0</td>\n    </tr>\n    <tr>\n      <th>2021-09-29</th>\n      <td>180.089996</td>\n      <td>184.479996</td>\n      <td>174.610001</td>\n      <td>175.919998</td>\n      <td>1899900</td>\n      <td>0.0</td>\n      <td>0.0</td>\n    </tr>\n    <tr>\n      <th>2021-09-30</th>\n      <td>175.000000</td>\n      <td>185.449997</td>\n      <td>166.789993</td>\n      <td>175.470001</td>\n      <td>3170700</td>\n      <td>0.0</td>\n      <td>0.0</td>\n    </tr>\n    <tr>\n      <th>2021-10-01</th>\n      <td>179.399994</td>\n      <td>179.485001</td>\n      <td>172.250000</td>\n      <td>176.910004</td>\n      <td>1545080</td>\n      <td>0.0</td>\n      <td>0.0</td>\n    </tr>\n  </tbody>\n</table>\n<p>4944 rows \u00d7 7 columns</p>\n</div>",
                        "text/plain": "                  Open        High         Low       Close    Volume  \\\nDate                                                                   \n2002-02-13    6.480513    6.773399    6.413183    6.766666  19054000   \n2002-02-14    6.850828    6.864294    6.682503    6.733001   2755400   \n2002-02-15    6.733000    6.749832    6.632005    6.699335   2097400   \n2002-02-19    6.665671    6.665671    6.312188    6.430016   1852600   \n2002-02-20    6.463681    6.648838    6.413183    6.648838   1723200   \n...                ...         ...         ...         ...       ...   \n2021-09-27  185.919998  192.050003  185.869995  189.479996   1470100   \n2021-09-28  188.000000  190.809998  178.000000  178.600006   1770500   \n2021-09-29  180.089996  184.479996  174.610001  175.919998   1899900   \n2021-09-30  175.000000  185.449997  166.789993  175.470001   3170700   \n2021-10-01  179.399994  179.485001  172.250000  176.910004   1545080   \n\n            Dividends  Stock Splits  \nDate                                 \n2002-02-13        0.0           0.0  \n2002-02-14        0.0           0.0  \n2002-02-15        0.0           0.0  \n2002-02-19        0.0           0.0  \n2002-02-20        0.0           0.0  \n...               ...           ...  \n2021-09-27        0.0           0.0  \n2021-09-28        0.0           0.0  \n2021-09-29        0.0           0.0  \n2021-09-30        0.0           0.0  \n2021-10-01        0.0           0.0  \n\n[4944 rows x 7 columns]"
                    },
                    "execution_count": 14,
                    "metadata": {},
                    "output_type": "execute_result"
                }
            ],
            "source": "gamestop_info=gamestop.info\ngamestop_info\ngme_data = gamestop.history(period=\"max\")\ngme_data"
        },
        {
            "cell_type": "markdown",
            "metadata": {},
            "source": "**Reset the index** using the `reset_index(inplace=True)` function on the gme_data DataFrame and display the first five rows of the `gme_data` dataframe using the `head` function. Take a screenshot of the results and code from the beginning of Question 3 to the results below.\n"
        },
        {
            "cell_type": "code",
            "execution_count": 15,
            "metadata": {},
            "outputs": [
                {
                    "data": {
                        "text/html": "<div>\n<style scoped>\n    .dataframe tbody tr th:only-of-type {\n        vertical-align: middle;\n    }\n\n    .dataframe tbody tr th {\n        vertical-align: top;\n    }\n\n    .dataframe thead th {\n        text-align: right;\n    }\n</style>\n<table border=\"1\" class=\"dataframe\">\n  <thead>\n    <tr style=\"text-align: right;\">\n      <th></th>\n      <th>Date</th>\n      <th>Open</th>\n      <th>High</th>\n      <th>Low</th>\n      <th>Close</th>\n      <th>Volume</th>\n      <th>Dividends</th>\n      <th>Stock Splits</th>\n    </tr>\n  </thead>\n  <tbody>\n    <tr>\n      <th>0</th>\n      <td>2002-02-13</td>\n      <td>6.480513</td>\n      <td>6.773399</td>\n      <td>6.413183</td>\n      <td>6.766666</td>\n      <td>19054000</td>\n      <td>0.0</td>\n      <td>0.0</td>\n    </tr>\n    <tr>\n      <th>1</th>\n      <td>2002-02-14</td>\n      <td>6.850828</td>\n      <td>6.864294</td>\n      <td>6.682503</td>\n      <td>6.733001</td>\n      <td>2755400</td>\n      <td>0.0</td>\n      <td>0.0</td>\n    </tr>\n    <tr>\n      <th>2</th>\n      <td>2002-02-15</td>\n      <td>6.733000</td>\n      <td>6.749832</td>\n      <td>6.632005</td>\n      <td>6.699335</td>\n      <td>2097400</td>\n      <td>0.0</td>\n      <td>0.0</td>\n    </tr>\n    <tr>\n      <th>3</th>\n      <td>2002-02-19</td>\n      <td>6.665671</td>\n      <td>6.665671</td>\n      <td>6.312188</td>\n      <td>6.430016</td>\n      <td>1852600</td>\n      <td>0.0</td>\n      <td>0.0</td>\n    </tr>\n    <tr>\n      <th>4</th>\n      <td>2002-02-20</td>\n      <td>6.463681</td>\n      <td>6.648838</td>\n      <td>6.413183</td>\n      <td>6.648838</td>\n      <td>1723200</td>\n      <td>0.0</td>\n      <td>0.0</td>\n    </tr>\n  </tbody>\n</table>\n</div>",
                        "text/plain": "        Date      Open      High       Low     Close    Volume  Dividends  \\\n0 2002-02-13  6.480513  6.773399  6.413183  6.766666  19054000        0.0   \n1 2002-02-14  6.850828  6.864294  6.682503  6.733001   2755400        0.0   \n2 2002-02-15  6.733000  6.749832  6.632005  6.699335   2097400        0.0   \n3 2002-02-19  6.665671  6.665671  6.312188  6.430016   1852600        0.0   \n4 2002-02-20  6.463681  6.648838  6.413183  6.648838   1723200        0.0   \n\n   Stock Splits  \n0           0.0  \n1           0.0  \n2           0.0  \n3           0.0  \n4           0.0  "
                    },
                    "execution_count": 15,
                    "metadata": {},
                    "output_type": "execute_result"
                }
            ],
            "source": "gme_data.reset_index(inplace=True)\ngme_data.head()"
        },
        {
            "cell_type": "markdown",
            "metadata": {},
            "source": "## Question 4: Use Webscraping to Extract GME Revenue Data\n"
        },
        {
            "cell_type": "markdown",
            "metadata": {},
            "source": "Use the `requests` library to download the webpage [https://www.macrotrends.net/stocks/charts/GME/gamestop/revenue](https://www.macrotrends.net/stocks/charts/GME/gamestop/revenue?utm_medium=Exinfluencer&utm_source=Exinfluencer&utm_content=000026UJ&utm_term=10006555&utm_id=NA-SkillsNetwork-Channel-SkillsNetworkCoursesIBMDeveloperSkillsNetworkPY0220ENSkillsNetwork23455606-2021-01-01). Save the text of the response as a variable named `html_data`.\n"
        },
        {
            "cell_type": "code",
            "execution_count": 16,
            "metadata": {},
            "outputs": [],
            "source": "url = \"https://www.macrotrends.net/stocks/charts/GME/gamestop/revenue\"\nhtml_data  = requests.get(url).text "
        },
        {
            "cell_type": "markdown",
            "metadata": {},
            "source": "Parse the html data using `beautiful_soup`.\n"
        },
        {
            "cell_type": "code",
            "execution_count": 17,
            "metadata": {},
            "outputs": [],
            "source": "soup = BeautifulSoup(html_data, 'html5lib')"
        },
        {
            "cell_type": "markdown",
            "metadata": {},
            "source": "Using `BeautifulSoup` or the `read_html` function extract the table with `GameStop Quarterly Revenue` and store it into a dataframe named `gme_revenue`. The dataframe should have columns `Date` and `Revenue`. Make sure the comma and dollar sign is removed from the `Revenue` column using a method similar to what you did in Question 2.\n"
        },
        {
            "cell_type": "markdown",
            "metadata": {},
            "source": "<details><summary>Click here if you need help locating the table</summary>\n\n```\n    \nBelow is the code to isolate the table, you will now need to loop through the rows and columns like in the previous lab\n    \nsoup.find_all(\"tbody\")[1]\n    \nIf you want to use the read_html function the table is located at index 1\n\n\n```\n\n</details>\n"
        },
        {
            "cell_type": "code",
            "execution_count": 18,
            "metadata": {},
            "outputs": [],
            "source": "gme_revenue = pd.DataFrame(columns=[\"Date\", \"Revenue\"])\nsoup.find_all(\"tbody\")[1]\nfor row in soup.find(\"tbody\").find_all(\"tr\"):\n    col = row.find_all(\"td\")\n\n   \n    date = col[0].text\n    revenue = col[1].text\n      \n    gme_revenue = tesla_revenue.append({\"Date\":date, \"Revenue\":revenue}, ignore_index=True)\n    gme_revenue[\"Revenue\"] = gme_revenue['Revenue'].str.replace(',|\\$',\"\")"
        },
        {
            "cell_type": "markdown",
            "metadata": {},
            "source": "Display the last five rows of the `gme_revenue` dataframe using the `tail` function. Take a screenshot of the results.\n"
        },
        {
            "cell_type": "code",
            "execution_count": 19,
            "metadata": {},
            "outputs": [
                {
                    "data": {
                        "text/html": "<div>\n<style scoped>\n    .dataframe tbody tr th:only-of-type {\n        vertical-align: middle;\n    }\n\n    .dataframe tbody tr th {\n        vertical-align: top;\n    }\n\n    .dataframe thead th {\n        text-align: right;\n    }\n</style>\n<table border=\"1\" class=\"dataframe\">\n  <thead>\n    <tr style=\"text-align: right;\">\n      <th></th>\n      <th>Date</th>\n      <th>Revenue</th>\n    </tr>\n  </thead>\n  <tbody>\n    <tr>\n      <th>9</th>\n      <td>2011</td>\n      <td>204</td>\n    </tr>\n    <tr>\n      <th>10</th>\n      <td>2010</td>\n      <td>117</td>\n    </tr>\n    <tr>\n      <th>11</th>\n      <td>2009</td>\n      <td>112</td>\n    </tr>\n    <tr>\n      <th>12</th>\n      <td>2008</td>\n      <td>15</td>\n    </tr>\n    <tr>\n      <th>13</th>\n      <td>2005</td>\n      <td>1843</td>\n    </tr>\n  </tbody>\n</table>\n</div>",
                        "text/plain": "    Date Revenue\n9   2011     204\n10  2010     117\n11  2009     112\n12  2008      15\n13  2005    1843"
                    },
                    "execution_count": 19,
                    "metadata": {},
                    "output_type": "execute_result"
                }
            ],
            "source": "gme_revenue.tail()"
        },
        {
            "cell_type": "markdown",
            "metadata": {},
            "source": "## Question 5: Plot Tesla Stock Graph\n"
        },
        {
            "cell_type": "markdown",
            "metadata": {},
            "source": "Use the `make_graph` function to graph the Tesla Stock Data, also provide a title for the graph. The structure to call the `make_graph` function is `make_graph(tesla_data, tesla_revenue, 'Tesla')`. Note the graph will only show data upto June 2021.\n"
        },
        {
            "cell_type": "code",
            "execution_count": 20,
            "metadata": {},
            "outputs": [],
            "source": "import yfinance as yf\nimport pandas as pd\nimport requests\nfrom bs4 import BeautifulSoup\nimport plotly.graph_objects as go\nfrom plotly.subplots import make_subplots\n\ndef make_graph(tesla_data, tesla_revenue, Tesla_Stock_Data):\n    fig=make_subplots(rows=2, cols=1, shared_xaxes=True, subplot_titles=(\"Historical Share Price\", \"Historical Revenue\"), vertical_spacing = .3)\n    tesla_data_specific = tesla_data[tesla_data.Date <= '2021-10-01']\n    tesla_revenue_specific = tesla_revenue[tesla_revenue.Date <= '2021-10-01']\n    fig.add_trace(go.line(x=pd.to_datetime(tesla_data_specific.Date, infer_datetime_format=True), y=tesla_data_specific.Close.astype(\"float\"), name=\"Share Price\"), row=1, col=1)\n    fig.add_trace(go.line(x=pd.to_datetime(tesla_revenue_specific.Date, infer_datetime_format=True), y=tesla_revenue_specific.Revenue.astype(\"float\"), name=\"Revenue\"), row=2, col=1)\n    fig.update_xaxes(title_text=\"Date\", row=1, col=1)\n    fig.update_xaxes(title_text=\"Date\", row=2, col=1)\n    fig.update_yaxes(title_text=\"Price ($US)\", row=1, col=1)\n    fig.update_yaxes(title_text=\"Revenue ($US Millions)\", row=2, col=1)\n    fig.update_layout(showlegend=False,\n    height=900,\n    title=Tesla_Stock_Data,\n    xaxis_rangeslider_visible=True)\n    fig.show()\n\n\n\n\n\n\n\n"
        },
        {
            "cell_type": "markdown",
            "metadata": {},
            "source": "## Question 6: Plot GameStop Stock Graph\n"
        },
        {
            "cell_type": "markdown",
            "metadata": {},
            "source": "Use the `make_graph` function to graph the GameStop Stock Data, also provide a title for the graph. The structure to call the `make_graph` function is `make_graph(gme_data, gme_revenue, 'GameStop')`. Note the graph will only show data upto June 2021.\n"
        },
        {
            "cell_type": "code",
            "execution_count": 25,
            "metadata": {},
            "outputs": [],
            "source": "def make_graph(gme_data, gme_revenue, GameStop_Stock_Data):\n    fig=make_subplots(rows=2, cols=1, shared_xaxes=True, subplot_titles=(\"Historical Share Price\", \"Historical Revenue\"), vertical_spacing = .3)\n    gme_data_specific = gme_data[gme_data.Date <= '2021-10-01']\n    gme_revenue_specific = gme_revenue[gme_revenue.Date <= '2021-10-01']\n    fig.add_trace(go.line(x=pd.to_datetime(gme_data_specific.Date, infer_datetime_format=True), y=gme_data_specific.Close.astype(\"float\"), name=\"Share Price\"), row=1, col=1)\n    fig.add_trace(go.line(x=pd.to_datetime(gme_revenue_specific.Date, infer_datetime_format=True), y=gme_revenue_specific.Revenue.astype(\"float\"), name=\"Revenue\"), row=2, col=1)\n    fig.update_xaxes(title_text=\"Date\", row=1, col=1)\n    fig.update_xaxes(title_text=\"Date\", row=2, col=1)\n    fig.update_yaxes(title_text=\"Price ($US)\", row=1, col=1)\n    fig.update_yaxes(title_text=\"Revenue ($US Millions)\", row=2, col=1)\n    fig.update_layout(showlegend=False,\n    height=900,\n    title=GameStop_Stock_Data,\n    xaxis_rangeslider_visible=True)\n    fig.show() "
        },
        {
            "cell_type": "markdown",
            "metadata": {},
            "source": "<h2>About the Authors:</h2> \n\n<a href=\"https://www.linkedin.com/in/joseph-s-50398b136/?utm_medium=Exinfluencer&utm_source=Exinfluencer&utm_content=000026UJ&utm_term=10006555&utm_id=NA-SkillsNetwork-Channel-SkillsNetworkCoursesIBMDeveloperSkillsNetworkPY0220ENSkillsNetwork23455606-2021-01-01\">Joseph Santarcangelo</a> has a PhD in Electrical Engineering, his research focused on using machine learning, signal processing, and computer vision to determine how videos impact human cognition. Joseph has been working for IBM since he completed his PhD.\n\nAzim Hirjani\n"
        },
        {
            "cell_type": "markdown",
            "metadata": {},
            "source": "## Change Log\n\n| Date (YYYY-MM-DD) | Version | Changed By    | Change Description        |\n| ----------------- | ------- | ------------- | ------------------------- |\n| 2020-11-10        | 1.1     | Malika Singla | Deleted the Optional part |\n| 2020-08-27        | 1.0     | Malika Singla | Added lab to GitLab       |\n\n<hr>\n\n## <h3 align=\"center\"> \u00a9 IBM Corporation 2020. All rights reserved. <h3/>\n\n<p>\n"
        }
    ],
    "metadata": {
        "kernelspec": {
            "display_name": "Python 3.7",
            "language": "python",
            "name": "python3"
        },
        "language_info": {
            "codemirror_mode": {
                "name": "ipython",
                "version": 3
            },
            "file_extension": ".py",
            "mimetype": "text/x-python",
            "name": "python",
            "nbconvert_exporter": "python",
            "pygments_lexer": "ipython3",
            "version": "3.7.11"
        }
    },
    "nbformat": 4,
    "nbformat_minor": 4
}